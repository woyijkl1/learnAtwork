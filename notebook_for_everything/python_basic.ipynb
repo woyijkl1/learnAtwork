{
 "cells": [
  {
   "cell_type": "markdown",
   "metadata": {},
   "source": [
    "# 字符串的格式化和连续产生 "
   ]
  },
  {
   "cell_type": "code",
   "execution_count": 2,
   "metadata": {},
   "outputs": [
    {
     "data": {
      "text/plain": [
       "['test 0',\n",
       " 'test 1',\n",
       " 'test 2',\n",
       " 'test 3',\n",
       " 'test 4',\n",
       " 'test 5',\n",
       " 'test 6',\n",
       " 'test 7',\n",
       " 'test 8',\n",
       " 'test 9']"
      ]
     },
     "execution_count": 2,
     "metadata": {},
     "output_type": "execute_result"
    }
   ],
   "source": [
    "['test {}'.format(i) for i in range(10)]"
   ]
  },
  {
   "cell_type": "code",
   "execution_count": 3,
   "metadata": {},
   "outputs": [
    {
     "data": {
      "text/plain": [
       "['test 0 0',\n",
       " 'test 0 1',\n",
       " 'test 0 2',\n",
       " 'test 1 0',\n",
       " 'test 1 1',\n",
       " 'test 1 2',\n",
       " 'test 2 0',\n",
       " 'test 2 1',\n",
       " 'test 2 2']"
      ]
     },
     "execution_count": 3,
     "metadata": {},
     "output_type": "execute_result"
    }
   ],
   "source": [
    "['test {name1} {name2}'.format(name1 = i, name2 = j) for i in range(3) for j in range(3)]"
   ]
  },
  {
   "cell_type": "markdown",
   "metadata": {},
   "source": [
    "# 判断类型"
   ]
  },
  {
   "cell_type": "code",
   "execution_count": 1,
   "metadata": {},
   "outputs": [
    {
     "data": {
      "text/plain": [
       "True"
      ]
     },
     "execution_count": 1,
     "metadata": {},
     "output_type": "execute_result"
    }
   ],
   "source": [
    "a = 4\n",
    "isinstance (a,(str,int,list))"
   ]
  },
  {
   "cell_type": "code",
   "execution_count": 8,
   "metadata": {},
   "outputs": [],
   "source": [
    "class IterDemo(object):\n",
    "    def __init__(self):\n",
    "        self.count = 0\n",
    "\n",
    "    def __iter__(self):\n",
    "        return self\n",
    "\n",
    "    def __next__(self):\n",
    "        if self.count < 10:\n",
    "            self.count += 1\n",
    "            return \"__next__ : %s\" % self.count\n",
    "        else:\n",
    "            raise StopIteration"
   ]
  },
  {
   "cell_type": "code",
   "execution_count": 10,
   "metadata": {},
   "outputs": [
    {
     "name": "stdout",
     "output_type": "stream",
     "text": [
      "__next__ : 1\n",
      "__next__ : 2\n",
      "__next__ : 3\n",
      "__next__ : 4\n",
      "__next__ : 5\n",
      "__next__ : 6\n",
      "__next__ : 7\n",
      "__next__ : 8\n",
      "__next__ : 9\n",
      "__next__ : 10\n"
     ]
    }
   ],
   "source": [
    "for i in IterDemo():\n",
    "    print(i)"
   ]
  },
  {
   "cell_type": "code",
   "execution_count": null,
   "metadata": {},
   "outputs": [],
   "source": []
  }
 ],
 "metadata": {
  "kernelspec": {
   "display_name": "Python [conda env:ml]",
   "language": "python",
   "name": "conda-env-ml-py"
  },
  "language_info": {
   "codemirror_mode": {
    "name": "ipython",
    "version": 3
   },
   "file_extension": ".py",
   "mimetype": "text/x-python",
   "name": "python",
   "nbconvert_exporter": "python",
   "pygments_lexer": "ipython3",
   "version": "3.6.7"
  }
 },
 "nbformat": 4,
 "nbformat_minor": 2
}
