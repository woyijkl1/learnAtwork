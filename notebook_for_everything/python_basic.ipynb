{
 "cells": [
  {
   "cell_type": "code",
   "execution_count": 1,
   "metadata": {},
   "outputs": [],
   "source": [
    "from IPython.core.interactiveshell import InteractiveShell\n",
    "InteractiveShell.ast_node_interactivity = \"all\""
   ]
  },
  {
   "cell_type": "markdown",
   "metadata": {},
   "source": [
    "# 语言特性与语法"
   ]
  },
  {
   "cell_type": "markdown",
   "metadata": {},
   "source": [
    "### 字符串"
   ]
  },
  {
   "cell_type": "code",
   "execution_count": 3,
   "metadata": {},
   "outputs": [
    {
     "data": {
      "text/plain": [
       "0"
      ]
     },
     "execution_count": 3,
     "metadata": {},
     "output_type": "execute_result"
    },
    {
     "data": {
      "text/plain": [
       "-1"
      ]
     },
     "execution_count": 3,
     "metadata": {},
     "output_type": "execute_result"
    }
   ],
   "source": [
    "# 查找子串\n",
    "a = \"this is\"\n",
    "a.find('this')\n",
    "a.find(\"bala\")"
   ]
  },
  {
   "cell_type": "markdown",
   "metadata": {},
   "source": [
    "## 字符串的格式化和连续产生 "
   ]
  },
  {
   "cell_type": "code",
   "execution_count": 2,
   "metadata": {},
   "outputs": [
    {
     "data": {
      "text/plain": [
       "['test 0',\n",
       " 'test 1',\n",
       " 'test 2',\n",
       " 'test 3',\n",
       " 'test 4',\n",
       " 'test 5',\n",
       " 'test 6',\n",
       " 'test 7',\n",
       " 'test 8',\n",
       " 'test 9']"
      ]
     },
     "execution_count": 2,
     "metadata": {},
     "output_type": "execute_result"
    }
   ],
   "source": [
    "['test {}'.format(i) for i in range(10)]"
   ]
  },
  {
   "cell_type": "code",
   "execution_count": 3,
   "metadata": {},
   "outputs": [
    {
     "data": {
      "text/plain": [
       "['test 0 0',\n",
       " 'test 0 1',\n",
       " 'test 0 2',\n",
       " 'test 1 0',\n",
       " 'test 1 1',\n",
       " 'test 1 2',\n",
       " 'test 2 0',\n",
       " 'test 2 1',\n",
       " 'test 2 2']"
      ]
     },
     "execution_count": 3,
     "metadata": {},
     "output_type": "execute_result"
    }
   ],
   "source": [
    "['test {name1} {name2}'.format(name1 = i, name2 = j) for i in range(3) for j in range(3)]"
   ]
  },
  {
   "cell_type": "code",
   "execution_count": 1,
   "metadata": {},
   "outputs": [
    {
     "data": {
      "text/plain": [
       "4"
      ]
     },
     "execution_count": 1,
     "metadata": {},
     "output_type": "execute_result"
    }
   ],
   "source": [
    "# eval 用来执行一个字符串表达式，并返回表达式的值。\n",
    "eval('pow(2,2)')"
   ]
  },
  {
   "cell_type": "markdown",
   "metadata": {},
   "source": [
    "## 判断类型"
   ]
  },
  {
   "cell_type": "code",
   "execution_count": 1,
   "metadata": {},
   "outputs": [
    {
     "data": {
      "text/plain": [
       "True"
      ]
     },
     "execution_count": 1,
     "metadata": {},
     "output_type": "execute_result"
    }
   ],
   "source": [
    "a = 4\n",
    "isinstance (a,(str,int,list))"
   ]
  },
  {
   "cell_type": "code",
   "execution_count": 8,
   "metadata": {},
   "outputs": [],
   "source": [
    "class IterDemo(object):\n",
    "    def __init__(self):\n",
    "        self.count = 0\n",
    "\n",
    "    def __iter__(self):\n",
    "        return self\n",
    "\n",
    "    def __next__(self):\n",
    "        if self.count < 10:\n",
    "            self.count += 1\n",
    "            return \"__next__ : %s\" % self.count\n",
    "        else:\n",
    "            raise StopIteration"
   ]
  },
  {
   "cell_type": "code",
   "execution_count": 10,
   "metadata": {},
   "outputs": [
    {
     "name": "stdout",
     "output_type": "stream",
     "text": [
      "__next__ : 1\n",
      "__next__ : 2\n",
      "__next__ : 3\n",
      "__next__ : 4\n",
      "__next__ : 5\n",
      "__next__ : 6\n",
      "__next__ : 7\n",
      "__next__ : 8\n",
      "__next__ : 9\n",
      "__next__ : 10\n"
     ]
    }
   ],
   "source": [
    "for i in IterDemo():\n",
    "    print(i)"
   ]
  },
  {
   "cell_type": "code",
   "execution_count": 2,
   "metadata": {},
   "outputs": [
    {
     "name": "stdout",
     "output_type": "stream",
     "text": [
      "hello word\n"
     ]
    }
   ],
   "source": [
    "print ('hello word')"
   ]
  },
  {
   "cell_type": "code",
   "execution_count": null,
   "metadata": {},
   "outputs": [],
   "source": []
  },
  {
   "cell_type": "code",
   "execution_count": 5,
   "metadata": {},
   "outputs": [
    {
     "data": {
      "text/plain": [
       "1"
      ]
     },
     "execution_count": 5,
     "metadata": {},
     "output_type": "execute_result"
    },
    {
     "data": {
      "text/plain": [
       "2"
      ]
     },
     "execution_count": 5,
     "metadata": {},
     "output_type": "execute_result"
    }
   ],
   "source": [
    "#getattr 和 setattr 获取、设置对象属性\n",
    "\n",
    "class A(object):\n",
    "    bar = 1\n",
    "a = A()\n",
    "getattr(a,'bar')\n",
    "\n",
    "setattr(a,'bar2',2)\n",
    "a.bar2"
   ]
  },
  {
   "cell_type": "markdown",
   "metadata": {},
   "source": [
    "## 关键字"
   ]
  },
  {
   "cell_type": "code",
   "execution_count": null,
   "metadata": {},
   "outputs": [],
   "source": [
    "# * 与 **\n",
    "\n",
    "# 单星号（*）：*agrs\n",
    "# 将所有参数以元组(tuple)的形式导入：\n",
    "# >>> def foo(param1, *param2):\n",
    "#         print param1\n",
    "#         print param2\n",
    "# >>> foo(1,2,3,4,5)\n",
    "# 1\n",
    "# (2, 3, 4, 5)\n",
    "\n",
    "\n",
    "# 双星号（**）：**kwargs\n",
    "# 将参数以字典的形式导入\n",
    "# >>> def bar(param1, **param2):\n",
    "#         print param1\n",
    "#         print param2\n",
    "# >>> bar(1,a=2,b=3)\n",
    "# 1\n",
    "# {'a': 2, 'b': 3}\n",
    "\n",
    "# 单星号拆解参数列表：\n",
    "# >>> def foo(bar, lee):\n",
    "#         print bar, lee\n",
    "# >>> l = [1, 2]\n",
    "# >>> foo(*l)\n",
    "# 1 2\n",
    "\n",
    "# 双星号拆解参数列表：\n",
    "# def tdu(*a,**b):\n",
    "#     print(a)\n",
    "#     print(b)\n",
    "# e=(1,2,3)\n",
    "# ff = {'one':1,'two':2,'three':3}\n",
    "# tdu(**f)\n",
    "# result: (1,2,3)\n",
    "#         {'one':1,'two':2,'three':3}"
   ]
  },
  {
   "cell_type": "code",
   "execution_count": null,
   "metadata": {},
   "outputs": [],
   "source": []
  },
  {
   "cell_type": "markdown",
   "metadata": {},
   "source": [
    "# package"
   ]
  },
  {
   "cell_type": "code",
   "execution_count": null,
   "metadata": {},
   "outputs": [],
   "source": [
    "# argparse\n",
    "\n",
    "# learn https://zhuanlan.zhihu.com/p/56922793\n",
    "\n",
    "parser = argparse.ArgumentParser(description='命令行中传入一个数字')\n",
    "# 可选参数 可以移除require字段\n",
    "parser.add_argument('--family',  type=str, required=True, default='')\n",
    "\n",
    "#如果不需要参数值，只需要在程序中获得一个flag：\n",
    "parser.add_argument('--familys', action='store_true')  #默认为true\n",
    "parser.add_argument('--familys', action='store_false')\n",
    "\n",
    "args = parser.parse_args()\n",
    "\n",
    "# after python source.py --family name\n",
    "print(args.family)\n",
    "\n",
    "\n",
    "\n",
    "#nargs 用法： nargs可以等于 数字，\"+\" 等\n",
    "#argparse.REMAINDER 表示所有剩下的参数\n",
    "parser.add_argument(\"--opts\", default=[],nargs=argparse.REMAINDER)\n",
    "\n",
    "#最后用args.opts 会得到一个list\n",
    "#例如：python arg.py --opts hello '(1,2,3,5)'\n",
    "#output： Namespace(opts=['hello', '(1,2,3,5)'])"
   ]
  },
  {
   "cell_type": "code",
   "execution_count": null,
   "metadata": {},
   "outputs": [],
   "source": [
    "# yacs  用来管理实验设置\n",
    "\n",
    "# learn https://zhuanlan.zhihu.com/p/366289700\n",
    "# 具体用法参见文件夹 yacs\n"
   ]
  }
 ],
 "metadata": {
  "kernelspec": {
   "display_name": "Python 3 (ipykernel)",
   "language": "python",
   "name": "python3"
  },
  "language_info": {
   "codemirror_mode": {
    "name": "ipython",
    "version": 3
   },
   "file_extension": ".py",
   "mimetype": "text/x-python",
   "name": "python",
   "nbconvert_exporter": "python",
   "pygments_lexer": "ipython3",
   "version": "3.9.6"
  }
 },
 "nbformat": 4,
 "nbformat_minor": 2
}
