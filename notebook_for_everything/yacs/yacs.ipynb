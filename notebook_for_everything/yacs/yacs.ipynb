{
 "cells": [
  {
   "cell_type": "code",
   "execution_count": 13,
   "id": "nonprofit-western",
   "metadata": {},
   "outputs": [],
   "source": [
    "from defaults import _C as cfg"
   ]
  },
  {
   "cell_type": "code",
   "execution_count": 14,
   "id": "occupational-tokyo",
   "metadata": {
    "scrolled": true
   },
   "outputs": [
    {
     "name": "stdout",
     "output_type": "stream",
     "text": [
      "DATALOADER:\n",
      "  NUM_WORKERS: 4\n",
      "DATASETS:\n",
      "  TEST: datasets/csc/test.json\n",
      "  TRAIN: datasets/csc/train.json\n",
      "  VALID: datasets/csc/dev.json\n",
      "INPUT:\n",
      "  MAX_LEN: 512\n",
      "MODE: ['train', 'test', 'valid']\n",
      "MODEL:\n",
      "  BERT_CKPT: bert-base-chinese\n",
      "  DEVICE: cuda\n",
      "  GPU_IDS: [0]\n",
      "  HYPER_PARAMS: [0.5]\n",
      "  NAME: bert4csc\n",
      "  NUM_CLASSES: 10\n",
      "  WEIGHTS: \n",
      "OUTPUT_DIR: checkpoints/bert4csc\n",
      "SOLVER:\n",
      "  ACCUMULATE_GRAD_BATCHES: 4\n",
      "  BASE_LR: 0.0001\n",
      "  BATCH_SIZE: 32\n",
      "  BIAS_LR_FACTOR: 2\n",
      "  CHECKPOINT_PERIOD: 10\n",
      "  DELAY_ITERS: 0\n",
      "  ETA_MIN_LR: 3e-07\n",
      "  GAMMA: 0.9999\n",
      "  INTERVAL: step\n",
      "  LOG_PERIOD: 100\n",
      "  MAX_EPOCHS: 10\n",
      "  MAX_ITER: 10\n",
      "  MOMENTUM: 0.9\n",
      "  OPTIMIZER_NAME: AdamW\n",
      "  SCHED: WarmupExponentialLR\n",
      "  STEPS: (10,)\n",
      "  WARMUP_EPOCHS: 1024\n",
      "  WARMUP_FACTOR: 0.01\n",
      "  WARMUP_ITERS: 2\n",
      "  WARMUP_METHOD: linear\n",
      "  WEIGHT_DECAY: 5e-08\n",
      "  WEIGHT_DECAY_BIAS: 0\n",
      "TASK:\n",
      "  NAME: csc\n",
      "TEST:\n",
      "  BATCH_SIZE: 16\n",
      "  CKPT_FN: \n"
     ]
    }
   ],
   "source": [
    "print(cfg)"
   ]
  },
  {
   "cell_type": "code",
   "execution_count": 15,
   "id": "economic-shift",
   "metadata": {},
   "outputs": [],
   "source": [
    "cfg.merge_from_file('train_bert4csc.yml')"
   ]
  },
  {
   "cell_type": "code",
   "execution_count": 16,
   "id": "informational-translator",
   "metadata": {
    "scrolled": true
   },
   "outputs": [
    {
     "name": "stdout",
     "output_type": "stream",
     "text": [
      "DATALOADER:\n",
      "  NUM_WORKERS: 4\n",
      "DATASETS:\n",
      "  TEST: datasets/csc/test.json\n",
      "  TRAIN: datasets/csc/train.json\n",
      "  VALID: datasets/csc/dev.json\n",
      "INPUT:\n",
      "  MAX_LEN: 512\n",
      "MODE: ['train', 'test', 'valid']\n",
      "MODEL:\n",
      "  BERT_CKPT: bert-base-chinese\n",
      "  DEVICE: cuda\n",
      "  GPU_IDS: [0]\n",
      "  HYPER_PARAMS: [0.5]\n",
      "  NAME: bert4csc\n",
      "  NUM_CLASSES: 10\n",
      "  WEIGHTS: \n",
      "OUTPUT_DIR: checkpoints/bert4csc\n",
      "SOLVER:\n",
      "  ACCUMULATE_GRAD_BATCHES: 4\n",
      "  BASE_LR: 0.0001\n",
      "  BATCH_SIZE: 32\n",
      "  BIAS_LR_FACTOR: 2\n",
      "  CHECKPOINT_PERIOD: 10\n",
      "  DELAY_ITERS: 0\n",
      "  ETA_MIN_LR: 3e-07\n",
      "  GAMMA: 0.9999\n",
      "  INTERVAL: step\n",
      "  LOG_PERIOD: 100\n",
      "  MAX_EPOCHS: 10\n",
      "  MAX_ITER: 10\n",
      "  MOMENTUM: 0.9\n",
      "  OPTIMIZER_NAME: AdamW\n",
      "  SCHED: WarmupExponentialLR\n",
      "  STEPS: (10,)\n",
      "  WARMUP_EPOCHS: 1024\n",
      "  WARMUP_FACTOR: 0.01\n",
      "  WARMUP_ITERS: 2\n",
      "  WARMUP_METHOD: linear\n",
      "  WEIGHT_DECAY: 5e-08\n",
      "  WEIGHT_DECAY_BIAS: 0\n",
      "TASK:\n",
      "  NAME: csc\n",
      "TEST:\n",
      "  BATCH_SIZE: 16\n",
      "  CKPT_FN: \n"
     ]
    }
   ],
   "source": [
    "print(cfg)"
   ]
  },
  {
   "cell_type": "code",
   "execution_count": 17,
   "id": "novel-priority",
   "metadata": {
    "scrolled": true
   },
   "outputs": [
    {
     "name": "stdout",
     "output_type": "stream",
     "text": [
      "DATALOADER:\n",
      "  NUM_WORKERS: 5\n",
      "DATASETS:\n",
      "  TEST: datasets/csc/test.json\n",
      "  TRAIN: datasets/csc/train.json\n",
      "  VALID: datasets/csc/dev.json\n",
      "INPUT:\n",
      "  MAX_LEN: 512\n",
      "MODE: ['train', 'test', 'valid']\n",
      "MODEL:\n",
      "  BERT_CKPT: bert-base-chinese\n",
      "  DEVICE: cuda\n",
      "  GPU_IDS: [0]\n",
      "  HYPER_PARAMS: [0.5]\n",
      "  NAME: bert4csc\n",
      "  NUM_CLASSES: 10\n",
      "  WEIGHTS: \n",
      "OUTPUT_DIR: checkpoints/bert4csc\n",
      "SOLVER:\n",
      "  ACCUMULATE_GRAD_BATCHES: 4\n",
      "  BASE_LR: 0.0001\n",
      "  BATCH_SIZE: 32\n",
      "  BIAS_LR_FACTOR: 2\n",
      "  CHECKPOINT_PERIOD: 10\n",
      "  DELAY_ITERS: 0\n",
      "  ETA_MIN_LR: 3e-07\n",
      "  GAMMA: 0.9999\n",
      "  INTERVAL: step\n",
      "  LOG_PERIOD: 100\n",
      "  MAX_EPOCHS: 10\n",
      "  MAX_ITER: 10\n",
      "  MOMENTUM: 0.9\n",
      "  OPTIMIZER_NAME: AdamW\n",
      "  SCHED: WarmupExponentialLR\n",
      "  STEPS: (10,)\n",
      "  WARMUP_EPOCHS: 1024\n",
      "  WARMUP_FACTOR: 0.01\n",
      "  WARMUP_ITERS: 2\n",
      "  WARMUP_METHOD: linear\n",
      "  WEIGHT_DECAY: 5e-08\n",
      "  WEIGHT_DECAY_BIAS: 0\n",
      "TASK:\n",
      "  NAME: csc\n",
      "TEST:\n",
      "  BATCH_SIZE: 16\n",
      "  CKPT_FN: \n"
     ]
    }
   ],
   "source": [
    "# key 可以是args.opts，就可以实现从命令行读取\n",
    "key = ['DATALOADER.NUM_WORKERS','5','MODE',\"['train', 'test','valid']\"]\n",
    "cfg.merge_from_list(key)\n",
    "print(cfg)"
   ]
  },
  {
   "cell_type": "code",
   "execution_count": null,
   "id": "adequate-seminar",
   "metadata": {},
   "outputs": [],
   "source": [
    "# 冻结\n",
    "cfg.freeze()\n"
   ]
  },
  {
   "cell_type": "code",
   "execution_count": null,
   "id": "blocked-auditor",
   "metadata": {},
   "outputs": [],
   "source": []
  }
 ],
 "metadata": {
  "kernelspec": {
   "display_name": "Python 3",
   "language": "python",
   "name": "python3"
  },
  "language_info": {
   "codemirror_mode": {
    "name": "ipython",
    "version": 3
   },
   "file_extension": ".py",
   "mimetype": "text/x-python",
   "name": "python",
   "nbconvert_exporter": "python",
   "pygments_lexer": "ipython3",
   "version": "3.6.13"
  }
 },
 "nbformat": 4,
 "nbformat_minor": 5
}
